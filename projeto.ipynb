{
  "nbformat": 4,
  "nbformat_minor": 0,
  "metadata": {
    "colab": {
      "provenance": []
    },
    "kernelspec": {
      "name": "python3",
      "display_name": "Python 3"
    },
    "language_info": {
      "name": "python"
    }
  },
  "cells": [
    {
      "cell_type": "code",
      "source": [
        "# ⬇Corrige a incompatibilidade forçando versões compatíveis + reinicia ambiente\n",
        "!pip install --upgrade --force-reinstall numpy==1.26.4 datasets==2.18.0 cleanlab==2.4.0 scikit-learn==1.3.2 -q\n",
        "\n",
        "import os\n",
        "os.kill(os.getpid(), 9)  # Reinicia o runtime"
      ],
      "metadata": {
        "id": "V-olvvxgKOVq",
        "colab": {
          "base_uri": "https://localhost:8080/"
        },
        "outputId": "158a5bb5-42ad-49bd-fed2-13564c83a69e"
      },
      "execution_count": null,
      "outputs": [
        {
          "output_type": "stream",
          "name": "stdout",
          "text": [
            "\u001b[2K     \u001b[90m━━━━━━━━━━━━━━━━━━━━━━━━━━━━━━━━━━━━━━━\u001b[0m \u001b[32m61.0/61.0 kB\u001b[0m \u001b[31m956.5 kB/s\u001b[0m eta \u001b[36m0:00:00\u001b[0m\n",
            "\u001b[2K     \u001b[90m━━━━━━━━━━━━━━━━━━━━━━━━━━━━━━━━━━━━━━━━\u001b[0m \u001b[32m89.9/89.9 kB\u001b[0m \u001b[31m3.7 MB/s\u001b[0m eta \u001b[36m0:00:00\u001b[0m\n",
            "\u001b[2K     \u001b[90m━━━━━━━━━━━━━━━━━━━━━━━━━━━━━━━━━━━━━━━━\u001b[0m \u001b[32m57.7/57.7 kB\u001b[0m \u001b[31m3.6 MB/s\u001b[0m eta \u001b[36m0:00:00\u001b[0m\n",
            "\u001b[2K     \u001b[90m━━━━━━━━━━━━━━━━━━━━━━━━━━━━━━━━━━━━━━━━\u001b[0m \u001b[32m62.0/62.0 kB\u001b[0m \u001b[31m4.6 MB/s\u001b[0m eta \u001b[36m0:00:00\u001b[0m\n",
            "\u001b[2K     \u001b[90m━━━━━━━━━━━━━━━━━━━━━━━━━━━━━━━━━━━━━━━━\u001b[0m \u001b[32m72.4/72.4 kB\u001b[0m \u001b[31m5.8 MB/s\u001b[0m eta \u001b[36m0:00:00\u001b[0m\n",
            "\u001b[2K   \u001b[90m━━━━━━━━━━━━━━━━━━━━━━━━━━━━━━━━━━━━━━━━\u001b[0m \u001b[32m18.3/18.3 MB\u001b[0m \u001b[31m98.9 MB/s\u001b[0m eta \u001b[36m0:00:00\u001b[0m\n",
            "\u001b[2K   \u001b[90m━━━━━━━━━━━━━━━━━━━━━━━━━━━━━━━━━━━━━━━━\u001b[0m \u001b[32m510.5/510.5 kB\u001b[0m \u001b[31m28.1 MB/s\u001b[0m eta \u001b[36m0:00:00\u001b[0m\n",
            "\u001b[2K   \u001b[90m━━━━━━━━━━━━━━━━━━━━━━━━━━━━━━━━━━━━━━━━\u001b[0m \u001b[32m225.1/225.1 kB\u001b[0m \u001b[31m17.3 MB/s\u001b[0m eta \u001b[36m0:00:00\u001b[0m\n",
            "\u001b[2K   \u001b[90m━━━━━━━━━━━━━━━━━━━━━━━━━━━━━━━━━━━━━━━━\u001b[0m \u001b[32m10.9/10.9 MB\u001b[0m \u001b[31m79.3 MB/s\u001b[0m eta \u001b[36m0:00:00\u001b[0m\n",
            "\u001b[2K   \u001b[90m━━━━━━━━━━━━━━━━━━━━━━━━━━━━━━━━━━━━━━━━\u001b[0m \u001b[32m116.3/116.3 kB\u001b[0m \u001b[31m9.7 MB/s\u001b[0m eta \u001b[36m0:00:00\u001b[0m\n",
            "\u001b[2K   \u001b[90m━━━━━━━━━━━━━━━━━━━━━━━━━━━━━━━━━━━━━━━━\u001b[0m \u001b[32m170.9/170.9 kB\u001b[0m \u001b[31m13.5 MB/s\u001b[0m eta \u001b[36m0:00:00\u001b[0m\n",
            "\u001b[2K   \u001b[90m━━━━━━━━━━━━━━━━━━━━━━━━━━━━━━━━━━━━━━━━\u001b[0m \u001b[32m1.7/1.7 MB\u001b[0m \u001b[31m66.4 MB/s\u001b[0m eta \u001b[36m0:00:00\u001b[0m\n",
            "\u001b[2K   \u001b[90m━━━━━━━━━━━━━━━━━━━━━━━━━━━━━━━━━━━━━━━━\u001b[0m \u001b[32m509.3/509.3 kB\u001b[0m \u001b[31m31.9 MB/s\u001b[0m eta \u001b[36m0:00:00\u001b[0m\n",
            "\u001b[2K   \u001b[90m━━━━━━━━━━━━━━━━━━━━━━━━━━━━━━━━━━━━━━━━\u001b[0m \u001b[32m307.7/307.7 kB\u001b[0m \u001b[31m22.6 MB/s\u001b[0m eta \u001b[36m0:00:00\u001b[0m\n",
            "\u001b[2K   \u001b[90m━━━━━━━━━━━━━━━━━━━━━━━━━━━━━━━━━━━━━━━━\u001b[0m \u001b[32m66.5/66.5 kB\u001b[0m \u001b[31m5.0 MB/s\u001b[0m eta \u001b[36m0:00:00\u001b[0m\n",
            "\u001b[2K   \u001b[90m━━━━━━━━━━━━━━━━━━━━━━━━━━━━━━━━━━━━━━━━\u001b[0m \u001b[32m13.1/13.1 MB\u001b[0m \u001b[31m103.3 MB/s\u001b[0m eta \u001b[36m0:00:00\u001b[0m\n",
            "\u001b[2K   \u001b[90m━━━━━━━━━━━━━━━━━━━━━━━━━━━━━━━━━━━━━━━━\u001b[0m \u001b[32m42.3/42.3 MB\u001b[0m \u001b[31m16.3 MB/s\u001b[0m eta \u001b[36m0:00:00\u001b[0m\n",
            "\u001b[2K   \u001b[90m━━━━━━━━━━━━━━━━━━━━━━━━━━━━━━━━━━━━━━━━\u001b[0m \u001b[32m763.0/763.0 kB\u001b[0m \u001b[31m34.1 MB/s\u001b[0m eta \u001b[36m0:00:00\u001b[0m\n",
            "\u001b[2K   \u001b[90m━━━━━━━━━━━━━━━━━━━━━━━━━━━━━━━━━━━━━━━━\u001b[0m \u001b[32m64.9/64.9 kB\u001b[0m \u001b[31m5.5 MB/s\u001b[0m eta \u001b[36m0:00:00\u001b[0m\n",
            "\u001b[2K   \u001b[90m━━━━━━━━━━━━━━━━━━━━━━━━━━━━━━━━━━━━━━━━\u001b[0m \u001b[32m37.7/37.7 MB\u001b[0m \u001b[31m30.9 MB/s\u001b[0m eta \u001b[36m0:00:00\u001b[0m\n",
            "\u001b[2K   \u001b[90m━━━━━━━━━━━━━━━━━━━━━━━━━━━━━━━━━━━━━━━━\u001b[0m \u001b[32m78.5/78.5 kB\u001b[0m \u001b[31m6.4 MB/s\u001b[0m eta \u001b[36m0:00:00\u001b[0m\n",
            "\u001b[2K   \u001b[90m━━━━━━━━━━━━━━━━━━━━━━━━━━━━━━━━━━━━━━━━\u001b[0m \u001b[32m143.5/143.5 kB\u001b[0m \u001b[31m11.6 MB/s\u001b[0m eta \u001b[36m0:00:00\u001b[0m\n",
            "\u001b[2K   \u001b[90m━━━━━━━━━━━━━━━━━━━━━━━━━━━━━━━━━━━━━━━━\u001b[0m \u001b[32m194.8/194.8 kB\u001b[0m \u001b[31m14.9 MB/s\u001b[0m eta \u001b[36m0:00:00\u001b[0m\n",
            "\u001b[2K   \u001b[90m━━━━━━━━━━━━━━━━━━━━━━━━━━━━━━━━━━━━━━━━\u001b[0m \u001b[32m63.8/63.8 kB\u001b[0m \u001b[31m5.2 MB/s\u001b[0m eta \u001b[36m0:00:00\u001b[0m\n",
            "\u001b[2K   \u001b[90m━━━━━━━━━━━━━━━━━━━━━━━━━━━━━━━━━━━━━━━━\u001b[0m \u001b[32m159.6/159.6 kB\u001b[0m \u001b[31m13.1 MB/s\u001b[0m eta \u001b[36m0:00:00\u001b[0m\n",
            "\u001b[2K   \u001b[90m━━━━━━━━━━━━━━━━━━━━━━━━━━━━━━━━━━━━━━━━\u001b[0m \u001b[32m147.3/147.3 kB\u001b[0m \u001b[31m11.9 MB/s\u001b[0m eta \u001b[36m0:00:00\u001b[0m\n",
            "\u001b[2K   \u001b[90m━━━━━━━━━━━━━━━━━━━━━━━━━━━━━━━━━━━━━━━━\u001b[0m \u001b[32m313.6/313.6 kB\u001b[0m \u001b[31m23.4 MB/s\u001b[0m eta \u001b[36m0:00:00\u001b[0m\n",
            "\u001b[2K   \u001b[90m━━━━━━━━━━━━━━━━━━━━━━━━━━━━━━━━━━━━━━━━\u001b[0m \u001b[32m5.2/5.2 MB\u001b[0m \u001b[31m88.9 MB/s\u001b[0m eta \u001b[36m0:00:00\u001b[0m\n",
            "\u001b[2K   \u001b[90m━━━━━━━━━━━━━━━━━━━━━━━━━━━━━━━━━━━━━━━━\u001b[0m \u001b[32m70.4/70.4 kB\u001b[0m \u001b[31m5.5 MB/s\u001b[0m eta \u001b[36m0:00:00\u001b[0m\n",
            "\u001b[2K   \u001b[90m━━━━━━━━━━━━━━━━━━━━━━━━━━━━━━━━━━━━━━━━\u001b[0m \u001b[32m223.7/223.7 kB\u001b[0m \u001b[31m16.9 MB/s\u001b[0m eta \u001b[36m0:00:00\u001b[0m\n",
            "\u001b[2K   \u001b[90m━━━━━━━━━━━━━━━━━━━━━━━━━━━━━━━━━━━━━━━━\u001b[0m \u001b[32m232.5/232.5 kB\u001b[0m \u001b[31m17.6 MB/s\u001b[0m eta \u001b[36m0:00:00\u001b[0m\n",
            "\u001b[2K   \u001b[90m━━━━━━━━━━━━━━━━━━━━━━━━━━━━━━━━━━━━━━━━\u001b[0m \u001b[32m229.9/229.9 kB\u001b[0m \u001b[31m16.9 MB/s\u001b[0m eta \u001b[36m0:00:00\u001b[0m\n",
            "\u001b[2K   \u001b[90m━━━━━━━━━━━━━━━━━━━━━━━━━━━━━━━━━━━━━━━━\u001b[0m \u001b[32m509.2/509.2 kB\u001b[0m \u001b[31m33.7 MB/s\u001b[0m eta \u001b[36m0:00:00\u001b[0m\n",
            "\u001b[2K   \u001b[90m━━━━━━━━━━━━━━━━━━━━━━━━━━━━━━━━━━━━━━━━\u001b[0m \u001b[32m45.8/45.8 kB\u001b[0m \u001b[31m3.4 MB/s\u001b[0m eta \u001b[36m0:00:00\u001b[0m\n",
            "\u001b[2K   \u001b[90m━━━━━━━━━━━━━━━━━━━━━━━━━━━━━━━━━━━━━━━━\u001b[0m \u001b[32m347.8/347.8 kB\u001b[0m \u001b[31m25.3 MB/s\u001b[0m eta \u001b[36m0:00:00\u001b[0m\n",
            "\u001b[2K   \u001b[90m━━━━━━━━━━━━━━━━━━━━━━━━━━━━━━━━━━━━━━━━\u001b[0m \u001b[32m128.7/128.7 kB\u001b[0m \u001b[31m9.7 MB/s\u001b[0m eta \u001b[36m0:00:00\u001b[0m\n",
            "\u001b[2K   \u001b[90m━━━━━━━━━━━━━━━━━━━━━━━━━━━━━━━━━━━━━━━━\u001b[0m \u001b[32m358.1/358.1 kB\u001b[0m \u001b[31m23.8 MB/s\u001b[0m eta \u001b[36m0:00:00\u001b[0m\n",
            "\u001b[?25h\u001b[31mERROR: pip's dependency resolver does not currently take into account all the packages that are installed. This behaviour is the source of the following dependency conflicts.\n",
            "google-colab 1.0.0 requires pandas==2.2.2, but you have pandas 2.2.3 which is incompatible.\n",
            "torch 2.6.0+cu124 requires nvidia-cublas-cu12==12.4.5.8; platform_system == \"Linux\" and platform_machine == \"x86_64\", but you have nvidia-cublas-cu12 12.5.3.2 which is incompatible.\n",
            "torch 2.6.0+cu124 requires nvidia-cuda-cupti-cu12==12.4.127; platform_system == \"Linux\" and platform_machine == \"x86_64\", but you have nvidia-cuda-cupti-cu12 12.5.82 which is incompatible.\n",
            "torch 2.6.0+cu124 requires nvidia-cuda-nvrtc-cu12==12.4.127; platform_system == \"Linux\" and platform_machine == \"x86_64\", but you have nvidia-cuda-nvrtc-cu12 12.5.82 which is incompatible.\n",
            "torch 2.6.0+cu124 requires nvidia-cuda-runtime-cu12==12.4.127; platform_system == \"Linux\" and platform_machine == \"x86_64\", but you have nvidia-cuda-runtime-cu12 12.5.82 which is incompatible.\n",
            "torch 2.6.0+cu124 requires nvidia-cudnn-cu12==9.1.0.70; platform_system == \"Linux\" and platform_machine == \"x86_64\", but you have nvidia-cudnn-cu12 9.3.0.75 which is incompatible.\n",
            "torch 2.6.0+cu124 requires nvidia-cufft-cu12==11.2.1.3; platform_system == \"Linux\" and platform_machine == \"x86_64\", but you have nvidia-cufft-cu12 11.2.3.61 which is incompatible.\n",
            "torch 2.6.0+cu124 requires nvidia-curand-cu12==10.3.5.147; platform_system == \"Linux\" and platform_machine == \"x86_64\", but you have nvidia-curand-cu12 10.3.6.82 which is incompatible.\n",
            "torch 2.6.0+cu124 requires nvidia-cusolver-cu12==11.6.1.9; platform_system == \"Linux\" and platform_machine == \"x86_64\", but you have nvidia-cusolver-cu12 11.6.3.83 which is incompatible.\n",
            "torch 2.6.0+cu124 requires nvidia-cusparse-cu12==12.3.1.170; platform_system == \"Linux\" and platform_machine == \"x86_64\", but you have nvidia-cusparse-cu12 12.5.1.3 which is incompatible.\n",
            "torch 2.6.0+cu124 requires nvidia-nvjitlink-cu12==12.4.127; platform_system == \"Linux\" and platform_machine == \"x86_64\", but you have nvidia-nvjitlink-cu12 12.5.82 which is incompatible.\n",
            "gcsfs 2025.3.2 requires fsspec==2025.3.2, but you have fsspec 2024.2.0 which is incompatible.\n",
            "pylibcudf-cu12 25.2.1 requires pyarrow<20.0.0a0,>=14.0.0; platform_machine == \"x86_64\", but you have pyarrow 20.0.0 which is incompatible.\n",
            "cudf-cu12 25.2.1 requires pyarrow<20.0.0a0,>=14.0.0; platform_machine == \"x86_64\", but you have pyarrow 20.0.0 which is incompatible.\n",
            "thinc 8.3.6 requires numpy<3.0.0,>=2.0.0, but you have numpy 1.26.4 which is incompatible.\n",
            "langchain-core 0.3.59 requires packaging<25,>=23.2, but you have packaging 25.0 which is incompatible.\u001b[0m\u001b[31m\n",
            "\u001b[0m"
          ]
        }
      ]
    },
    {
      "cell_type": "code",
      "source": [
        "!pip install pulearn"
      ],
      "metadata": {
        "colab": {
          "base_uri": "https://localhost:8080/",
          "height": 559
        },
        "id": "iKzwEwgJHSTm",
        "outputId": "85214faf-d8ca-46ab-9981-a20ca4ce18d3"
      },
      "execution_count": 1,
      "outputs": [
        {
          "output_type": "stream",
          "name": "stdout",
          "text": [
            "Collecting pulearn\n",
            "  Downloading pulearn-0.0.11-py3-none-any.whl.metadata (11 kB)\n",
            "Requirement already satisfied: numpy~=1.26.4 in /usr/local/lib/python3.11/dist-packages (from pulearn) (1.26.4)\n",
            "Collecting scikit-learn<1.6,>=1.4.2 (from pulearn)\n",
            "  Downloading scikit_learn-1.5.2-cp311-cp311-manylinux_2_17_x86_64.manylinux2014_x86_64.whl.metadata (13 kB)\n",
            "Collecting six~=1.16.0 (from pulearn)\n",
            "  Downloading six-1.16.0-py2.py3-none-any.whl.metadata (1.8 kB)\n",
            "Requirement already satisfied: scipy>=1.6.0 in /usr/local/lib/python3.11/dist-packages (from scikit-learn<1.6,>=1.4.2->pulearn) (1.15.3)\n",
            "Requirement already satisfied: joblib>=1.2.0 in /usr/local/lib/python3.11/dist-packages (from scikit-learn<1.6,>=1.4.2->pulearn) (1.5.1)\n",
            "Requirement already satisfied: threadpoolctl>=3.1.0 in /usr/local/lib/python3.11/dist-packages (from scikit-learn<1.6,>=1.4.2->pulearn) (3.6.0)\n",
            "Downloading pulearn-0.0.11-py3-none-any.whl (18 kB)\n",
            "Downloading scikit_learn-1.5.2-cp311-cp311-manylinux_2_17_x86_64.manylinux2014_x86_64.whl (13.3 MB)\n",
            "\u001b[2K   \u001b[90m━━━━━━━━━━━━━━━━━━━━━━━━━━━━━━━━━━━━━━━━\u001b[0m \u001b[32m13.3/13.3 MB\u001b[0m \u001b[31m59.6 MB/s\u001b[0m eta \u001b[36m0:00:00\u001b[0m\n",
            "\u001b[?25hDownloading six-1.16.0-py2.py3-none-any.whl (11 kB)\n",
            "Installing collected packages: six, scikit-learn, pulearn\n",
            "  Attempting uninstall: six\n",
            "    Found existing installation: six 1.17.0\n",
            "    Uninstalling six-1.17.0:\n",
            "      Successfully uninstalled six-1.17.0\n",
            "  Attempting uninstall: scikit-learn\n",
            "    Found existing installation: scikit-learn 1.3.2\n",
            "    Uninstalling scikit-learn-1.3.2:\n",
            "      Successfully uninstalled scikit-learn-1.3.2\n",
            "Successfully installed pulearn-0.0.11 scikit-learn-1.5.2 six-1.16.0\n"
          ]
        },
        {
          "output_type": "display_data",
          "data": {
            "application/vnd.colab-display-data+json": {
              "pip_warning": {
                "packages": [
                  "six"
                ]
              },
              "id": "b276e64405c3491a86b0dee4742fcaba"
            }
          },
          "metadata": {}
        }
      ]
    },
    {
      "cell_type": "code",
      "source": [
        "!pip install snorkel"
      ],
      "metadata": {
        "colab": {
          "base_uri": "https://localhost:8080/"
        },
        "id": "_F5pH2G_Xrdw",
        "outputId": "e211ff2c-9c8b-444d-c312-766e6fbd4ed1"
      },
      "execution_count": 1,
      "outputs": [
        {
          "output_type": "stream",
          "name": "stdout",
          "text": [
            "Collecting snorkel\n",
            "  Downloading snorkel-0.10.0-py3-none-any.whl.metadata (9.5 kB)\n",
            "Collecting munkres>=1.0.6 (from snorkel)\n",
            "  Downloading munkres-1.1.4-py2.py3-none-any.whl.metadata (980 bytes)\n",
            "Requirement already satisfied: numpy>=1.24.0 in /usr/local/lib/python3.11/dist-packages (from snorkel) (1.26.4)\n",
            "Requirement already satisfied: scipy>=1.2.0 in /usr/local/lib/python3.11/dist-packages (from snorkel) (1.15.3)\n",
            "Requirement already satisfied: pandas>=1.0.0 in /usr/local/lib/python3.11/dist-packages (from snorkel) (2.2.3)\n",
            "Requirement already satisfied: tqdm>=4.33.0 in /usr/local/lib/python3.11/dist-packages (from snorkel) (4.67.1)\n",
            "Requirement already satisfied: scikit-learn>=0.20.2 in /usr/local/lib/python3.11/dist-packages (from snorkel) (1.5.2)\n",
            "Requirement already satisfied: torch>=1.2.0 in /usr/local/lib/python3.11/dist-packages (from snorkel) (2.6.0+cu124)\n",
            "Requirement already satisfied: tensorboard>=2.13.0 in /usr/local/lib/python3.11/dist-packages (from snorkel) (2.18.0)\n",
            "Requirement already satisfied: protobuf>=3.19.6 in /usr/local/lib/python3.11/dist-packages (from snorkel) (5.29.4)\n",
            "Requirement already satisfied: networkx>=2.2 in /usr/local/lib/python3.11/dist-packages (from snorkel) (3.4.2)\n",
            "Requirement already satisfied: python-dateutil>=2.8.2 in /usr/local/lib/python3.11/dist-packages (from pandas>=1.0.0->snorkel) (2.9.0.post0)\n",
            "Requirement already satisfied: pytz>=2020.1 in /usr/local/lib/python3.11/dist-packages (from pandas>=1.0.0->snorkel) (2025.2)\n",
            "Requirement already satisfied: tzdata>=2022.7 in /usr/local/lib/python3.11/dist-packages (from pandas>=1.0.0->snorkel) (2025.2)\n",
            "Requirement already satisfied: joblib>=1.2.0 in /usr/local/lib/python3.11/dist-packages (from scikit-learn>=0.20.2->snorkel) (1.5.1)\n",
            "Requirement already satisfied: threadpoolctl>=3.1.0 in /usr/local/lib/python3.11/dist-packages (from scikit-learn>=0.20.2->snorkel) (3.6.0)\n",
            "Requirement already satisfied: absl-py>=0.4 in /usr/local/lib/python3.11/dist-packages (from tensorboard>=2.13.0->snorkel) (1.4.0)\n",
            "Requirement already satisfied: grpcio>=1.48.2 in /usr/local/lib/python3.11/dist-packages (from tensorboard>=2.13.0->snorkel) (1.71.0)\n",
            "Requirement already satisfied: markdown>=2.6.8 in /usr/local/lib/python3.11/dist-packages (from tensorboard>=2.13.0->snorkel) (3.8)\n",
            "Requirement already satisfied: packaging in /usr/local/lib/python3.11/dist-packages (from tensorboard>=2.13.0->snorkel) (25.0)\n",
            "Requirement already satisfied: setuptools>=41.0.0 in /usr/local/lib/python3.11/dist-packages (from tensorboard>=2.13.0->snorkel) (75.2.0)\n",
            "Requirement already satisfied: six>1.9 in /usr/local/lib/python3.11/dist-packages (from tensorboard>=2.13.0->snorkel) (1.16.0)\n",
            "Requirement already satisfied: tensorboard-data-server<0.8.0,>=0.7.0 in /usr/local/lib/python3.11/dist-packages (from tensorboard>=2.13.0->snorkel) (0.7.2)\n",
            "Requirement already satisfied: werkzeug>=1.0.1 in /usr/local/lib/python3.11/dist-packages (from tensorboard>=2.13.0->snorkel) (3.1.3)\n",
            "Requirement already satisfied: filelock in /usr/local/lib/python3.11/dist-packages (from torch>=1.2.0->snorkel) (3.18.0)\n",
            "Requirement already satisfied: typing-extensions>=4.10.0 in /usr/local/lib/python3.11/dist-packages (from torch>=1.2.0->snorkel) (4.13.2)\n",
            "Requirement already satisfied: jinja2 in /usr/local/lib/python3.11/dist-packages (from torch>=1.2.0->snorkel) (3.1.6)\n",
            "Requirement already satisfied: fsspec in /usr/local/lib/python3.11/dist-packages (from torch>=1.2.0->snorkel) (2024.2.0)\n",
            "Collecting nvidia-cuda-nvrtc-cu12==12.4.127 (from torch>=1.2.0->snorkel)\n",
            "  Downloading nvidia_cuda_nvrtc_cu12-12.4.127-py3-none-manylinux2014_x86_64.whl.metadata (1.5 kB)\n",
            "Collecting nvidia-cuda-runtime-cu12==12.4.127 (from torch>=1.2.0->snorkel)\n",
            "  Downloading nvidia_cuda_runtime_cu12-12.4.127-py3-none-manylinux2014_x86_64.whl.metadata (1.5 kB)\n",
            "Collecting nvidia-cuda-cupti-cu12==12.4.127 (from torch>=1.2.0->snorkel)\n",
            "  Downloading nvidia_cuda_cupti_cu12-12.4.127-py3-none-manylinux2014_x86_64.whl.metadata (1.6 kB)\n",
            "Collecting nvidia-cudnn-cu12==9.1.0.70 (from torch>=1.2.0->snorkel)\n",
            "  Downloading nvidia_cudnn_cu12-9.1.0.70-py3-none-manylinux2014_x86_64.whl.metadata (1.6 kB)\n",
            "Collecting nvidia-cublas-cu12==12.4.5.8 (from torch>=1.2.0->snorkel)\n",
            "  Downloading nvidia_cublas_cu12-12.4.5.8-py3-none-manylinux2014_x86_64.whl.metadata (1.5 kB)\n",
            "Collecting nvidia-cufft-cu12==11.2.1.3 (from torch>=1.2.0->snorkel)\n",
            "  Downloading nvidia_cufft_cu12-11.2.1.3-py3-none-manylinux2014_x86_64.whl.metadata (1.5 kB)\n",
            "Collecting nvidia-curand-cu12==10.3.5.147 (from torch>=1.2.0->snorkel)\n",
            "  Downloading nvidia_curand_cu12-10.3.5.147-py3-none-manylinux2014_x86_64.whl.metadata (1.5 kB)\n",
            "Collecting nvidia-cusolver-cu12==11.6.1.9 (from torch>=1.2.0->snorkel)\n",
            "  Downloading nvidia_cusolver_cu12-11.6.1.9-py3-none-manylinux2014_x86_64.whl.metadata (1.6 kB)\n",
            "Collecting nvidia-cusparse-cu12==12.3.1.170 (from torch>=1.2.0->snorkel)\n",
            "  Downloading nvidia_cusparse_cu12-12.3.1.170-py3-none-manylinux2014_x86_64.whl.metadata (1.6 kB)\n",
            "Requirement already satisfied: nvidia-cusparselt-cu12==0.6.2 in /usr/local/lib/python3.11/dist-packages (from torch>=1.2.0->snorkel) (0.6.2)\n",
            "Requirement already satisfied: nvidia-nccl-cu12==2.21.5 in /usr/local/lib/python3.11/dist-packages (from torch>=1.2.0->snorkel) (2.21.5)\n",
            "Requirement already satisfied: nvidia-nvtx-cu12==12.4.127 in /usr/local/lib/python3.11/dist-packages (from torch>=1.2.0->snorkel) (12.4.127)\n",
            "Collecting nvidia-nvjitlink-cu12==12.4.127 (from torch>=1.2.0->snorkel)\n",
            "  Downloading nvidia_nvjitlink_cu12-12.4.127-py3-none-manylinux2014_x86_64.whl.metadata (1.5 kB)\n",
            "Requirement already satisfied: triton==3.2.0 in /usr/local/lib/python3.11/dist-packages (from torch>=1.2.0->snorkel) (3.2.0)\n",
            "Requirement already satisfied: sympy==1.13.1 in /usr/local/lib/python3.11/dist-packages (from torch>=1.2.0->snorkel) (1.13.1)\n",
            "Requirement already satisfied: mpmath<1.4,>=1.1.0 in /usr/local/lib/python3.11/dist-packages (from sympy==1.13.1->torch>=1.2.0->snorkel) (1.3.0)\n",
            "Requirement already satisfied: MarkupSafe>=2.1.1 in /usr/local/lib/python3.11/dist-packages (from werkzeug>=1.0.1->tensorboard>=2.13.0->snorkel) (3.0.2)\n",
            "Downloading snorkel-0.10.0-py3-none-any.whl (103 kB)\n",
            "\u001b[2K   \u001b[90m━━━━━━━━━━━━━━━━━━━━━━━━━━━━━━━━━━━━━━━━\u001b[0m \u001b[32m103.3/103.3 kB\u001b[0m \u001b[31m2.5 MB/s\u001b[0m eta \u001b[36m0:00:00\u001b[0m\n",
            "\u001b[?25hDownloading munkres-1.1.4-py2.py3-none-any.whl (7.0 kB)\n",
            "Downloading nvidia_cublas_cu12-12.4.5.8-py3-none-manylinux2014_x86_64.whl (363.4 MB)\n",
            "\u001b[2K   \u001b[90m━━━━━━━━━━━━━━━━━━━━━━━━━━━━━━━━━━━━━━━━\u001b[0m \u001b[32m363.4/363.4 MB\u001b[0m \u001b[31m3.6 MB/s\u001b[0m eta \u001b[36m0:00:00\u001b[0m\n",
            "\u001b[?25hDownloading nvidia_cuda_cupti_cu12-12.4.127-py3-none-manylinux2014_x86_64.whl (13.8 MB)\n",
            "\u001b[2K   \u001b[90m━━━━━━━━━━━━━━━━━━━━━━━━━━━━━━━━━━━━━━━━\u001b[0m \u001b[32m13.8/13.8 MB\u001b[0m \u001b[31m64.9 MB/s\u001b[0m eta \u001b[36m0:00:00\u001b[0m\n",
            "\u001b[?25hDownloading nvidia_cuda_nvrtc_cu12-12.4.127-py3-none-manylinux2014_x86_64.whl (24.6 MB)\n",
            "\u001b[2K   \u001b[90m━━━━━━━━━━━━━━━━━━━━━━━━━━━━━━━━━━━━━━━━\u001b[0m \u001b[32m24.6/24.6 MB\u001b[0m \u001b[31m58.1 MB/s\u001b[0m eta \u001b[36m0:00:00\u001b[0m\n",
            "\u001b[?25hDownloading nvidia_cuda_runtime_cu12-12.4.127-py3-none-manylinux2014_x86_64.whl (883 kB)\n",
            "\u001b[2K   \u001b[90m━━━━━━━━━━━━━━━━━━━━━━━━━━━━━━━━━━━━━━━━\u001b[0m \u001b[32m883.7/883.7 kB\u001b[0m \u001b[31m34.3 MB/s\u001b[0m eta \u001b[36m0:00:00\u001b[0m\n",
            "\u001b[?25hDownloading nvidia_cudnn_cu12-9.1.0.70-py3-none-manylinux2014_x86_64.whl (664.8 MB)\n",
            "\u001b[2K   \u001b[90m━━━━━━━━━━━━━━━━━━━━━━━━━━━━━━━━━━━━━━━━\u001b[0m \u001b[32m664.8/664.8 MB\u001b[0m \u001b[31m2.0 MB/s\u001b[0m eta \u001b[36m0:00:00\u001b[0m\n",
            "\u001b[?25hDownloading nvidia_cufft_cu12-11.2.1.3-py3-none-manylinux2014_x86_64.whl (211.5 MB)\n",
            "\u001b[2K   \u001b[90m━━━━━━━━━━━━━━━━━━━━━━━━━━━━━━━━━━━━━━━━\u001b[0m \u001b[32m211.5/211.5 MB\u001b[0m \u001b[31m6.5 MB/s\u001b[0m eta \u001b[36m0:00:00\u001b[0m\n",
            "\u001b[?25hDownloading nvidia_curand_cu12-10.3.5.147-py3-none-manylinux2014_x86_64.whl (56.3 MB)\n",
            "\u001b[2K   \u001b[90m━━━━━━━━━━━━━━━━━━━━━━━━━━━━━━━━━━━━━━━━\u001b[0m \u001b[32m56.3/56.3 MB\u001b[0m \u001b[31m12.8 MB/s\u001b[0m eta \u001b[36m0:00:00\u001b[0m\n",
            "\u001b[?25hDownloading nvidia_cusolver_cu12-11.6.1.9-py3-none-manylinux2014_x86_64.whl (127.9 MB)\n",
            "\u001b[2K   \u001b[90m━━━━━━━━━━━━━━━━━━━━━━━━━━━━━━━━━━━━━━━━\u001b[0m \u001b[32m127.9/127.9 MB\u001b[0m \u001b[31m7.3 MB/s\u001b[0m eta \u001b[36m0:00:00\u001b[0m\n",
            "\u001b[?25hDownloading nvidia_cusparse_cu12-12.3.1.170-py3-none-manylinux2014_x86_64.whl (207.5 MB)\n",
            "\u001b[2K   \u001b[90m━━━━━━━━━━━━━━━━━━━━━━━━━━━━━━━━━━━━━━━━\u001b[0m \u001b[32m207.5/207.5 MB\u001b[0m \u001b[31m5.8 MB/s\u001b[0m eta \u001b[36m0:00:00\u001b[0m\n",
            "\u001b[?25hDownloading nvidia_nvjitlink_cu12-12.4.127-py3-none-manylinux2014_x86_64.whl (21.1 MB)\n",
            "\u001b[2K   \u001b[90m━━━━━━━━━━━━━━━━━━━━━━━━━━━━━━━━━━━━━━━━\u001b[0m \u001b[32m21.1/21.1 MB\u001b[0m \u001b[31m87.7 MB/s\u001b[0m eta \u001b[36m0:00:00\u001b[0m\n",
            "\u001b[?25hInstalling collected packages: munkres, nvidia-nvjitlink-cu12, nvidia-curand-cu12, nvidia-cufft-cu12, nvidia-cuda-runtime-cu12, nvidia-cuda-nvrtc-cu12, nvidia-cuda-cupti-cu12, nvidia-cublas-cu12, nvidia-cusparse-cu12, nvidia-cudnn-cu12, nvidia-cusolver-cu12, snorkel\n",
            "  Attempting uninstall: nvidia-nvjitlink-cu12\n",
            "    Found existing installation: nvidia-nvjitlink-cu12 12.5.82\n",
            "    Uninstalling nvidia-nvjitlink-cu12-12.5.82:\n",
            "      Successfully uninstalled nvidia-nvjitlink-cu12-12.5.82\n",
            "  Attempting uninstall: nvidia-curand-cu12\n",
            "    Found existing installation: nvidia-curand-cu12 10.3.6.82\n",
            "    Uninstalling nvidia-curand-cu12-10.3.6.82:\n",
            "      Successfully uninstalled nvidia-curand-cu12-10.3.6.82\n",
            "  Attempting uninstall: nvidia-cufft-cu12\n",
            "    Found existing installation: nvidia-cufft-cu12 11.2.3.61\n",
            "    Uninstalling nvidia-cufft-cu12-11.2.3.61:\n",
            "      Successfully uninstalled nvidia-cufft-cu12-11.2.3.61\n",
            "  Attempting uninstall: nvidia-cuda-runtime-cu12\n",
            "    Found existing installation: nvidia-cuda-runtime-cu12 12.5.82\n",
            "    Uninstalling nvidia-cuda-runtime-cu12-12.5.82:\n",
            "      Successfully uninstalled nvidia-cuda-runtime-cu12-12.5.82\n",
            "  Attempting uninstall: nvidia-cuda-nvrtc-cu12\n",
            "    Found existing installation: nvidia-cuda-nvrtc-cu12 12.5.82\n",
            "    Uninstalling nvidia-cuda-nvrtc-cu12-12.5.82:\n",
            "      Successfully uninstalled nvidia-cuda-nvrtc-cu12-12.5.82\n",
            "  Attempting uninstall: nvidia-cuda-cupti-cu12\n",
            "    Found existing installation: nvidia-cuda-cupti-cu12 12.5.82\n",
            "    Uninstalling nvidia-cuda-cupti-cu12-12.5.82:\n",
            "      Successfully uninstalled nvidia-cuda-cupti-cu12-12.5.82\n",
            "  Attempting uninstall: nvidia-cublas-cu12\n",
            "    Found existing installation: nvidia-cublas-cu12 12.5.3.2\n",
            "    Uninstalling nvidia-cublas-cu12-12.5.3.2:\n",
            "      Successfully uninstalled nvidia-cublas-cu12-12.5.3.2\n",
            "  Attempting uninstall: nvidia-cusparse-cu12\n",
            "    Found existing installation: nvidia-cusparse-cu12 12.5.1.3\n",
            "    Uninstalling nvidia-cusparse-cu12-12.5.1.3:\n",
            "      Successfully uninstalled nvidia-cusparse-cu12-12.5.1.3\n",
            "  Attempting uninstall: nvidia-cudnn-cu12\n",
            "    Found existing installation: nvidia-cudnn-cu12 9.3.0.75\n",
            "    Uninstalling nvidia-cudnn-cu12-9.3.0.75:\n",
            "      Successfully uninstalled nvidia-cudnn-cu12-9.3.0.75\n",
            "  Attempting uninstall: nvidia-cusolver-cu12\n",
            "    Found existing installation: nvidia-cusolver-cu12 11.6.3.83\n",
            "    Uninstalling nvidia-cusolver-cu12-11.6.3.83:\n",
            "      Successfully uninstalled nvidia-cusolver-cu12-11.6.3.83\n",
            "Successfully installed munkres-1.1.4 nvidia-cublas-cu12-12.4.5.8 nvidia-cuda-cupti-cu12-12.4.127 nvidia-cuda-nvrtc-cu12-12.4.127 nvidia-cuda-runtime-cu12-12.4.127 nvidia-cudnn-cu12-9.1.0.70 nvidia-cufft-cu12-11.2.1.3 nvidia-curand-cu12-10.3.5.147 nvidia-cusolver-cu12-11.6.1.9 nvidia-cusparse-cu12-12.3.1.170 nvidia-nvjitlink-cu12-12.4.127 snorkel-0.10.0\n"
          ]
        }
      ]
    },
    {
      "cell_type": "markdown",
      "source": [
        "# Projeto: Classificação de Sentimentos com Rótulos Fracos usando Snorkel e Cleanlab\n",
        "\n",
        "## Etapa 1: Carregamento dos Dados, Rotulagem Fraca e Vetorização\n",
        "\n",
        "Nesta primeira etapa, realizamos o carregamento e preparação inicial dos dados, bem como a aplicação de técnicas de rotulagem fraca utilizando o framework **Snorkel**. O objetivo é simular um cenário realista de aprendizado supervisionado fraco, onde temos poucos ou nenhum rótulo manual, e precisamos inferir rótulos a partir de heurísticas.\n",
        "\n",
        "### Dataset\n",
        "\n",
        "Utilizamos o conjunto de dados **IMDB**, que contém resenhas de filmes classificadas como positivas ou negativas. Inicialmente, carregamos a divisão de treinamento completa, convertendo-a em um `DataFrame` para facilitar o processamento.\n",
        "\n",
        "### Rotulagem Fraca com Snorkel\n",
        "\n",
        "A rotulagem supervisionada fraca foi realizada com base em um conjunto de **Funções de Rotulagem (Labeling Functions - LFs)**. Essas funções heurísticas atribuem rótulos parciais aos exemplos com base na ocorrência de certas palavras-chave no texto da resenha, como `love`, `hate`, `excellent` e `boring`. O uso dessas palavras foi baseado em seu forte valor semântico associado à polaridade das opiniões.\n",
        "\n",
        "Essas funções podem abster-se de rotular (`ABSTAIN = -1`) se a heurística não se aplicar ao exemplo. O conjunto de LFs é então aplicado a todos os exemplos com o `PandasLFApplier`, gerando uma matriz de rótulos fracos.\n",
        "\n",
        "### Modelagem dos Rótulos Fracos\n",
        "\n",
        "Utilizamos o `LabelModel`, fornecido pelo Snorkel, para consolidar as previsões das diversas LFs em um único rótulo por exemplo. O `LabelModel` aprende as precisões e correlações entre as funções de rotulagem e estima a probabilidade de cada rótulo verdadeiro, mesmo sem acesso aos rótulos reais.\n",
        "\n",
        "### Representação dos Dados\n",
        "\n",
        "Como última etapa, transformamos os textos das resenhas em vetores numéricos utilizando a técnica de **TF-IDF (Term Frequency-Inverse Document Frequency)**, ignorando palavras muito comuns (stop words) e limitando a dimensionalidade a 5.000 termos mais informativos. Isso é necessário para que os dados possam ser usados como entrada para modelos de aprendizado de máquina supervisionado.\n",
        "\n",
        "Essa preparação é fundamental para as próximas etapas do pipeline, que incluem o treinamento de modelos com os rótulos fracos e a análise de sua qualidade em relação aos rótulos verdadeiros.\n"
      ],
      "metadata": {
        "id": "MwRjUEDUkH7M"
      }
    },
    {
      "cell_type": "code",
      "source": [
        "from datasets import load_dataset\n",
        "import pandas as pd\n",
        "\n",
        "# Carrega uma amostra do dataset IMDB\n",
        "#dataset = load_dataset(\"imdb\", split=\"train[:10000]\")\n",
        "\n",
        "dataset = load_dataset(\"imdb\", split=\"train\")\n",
        "df = pd.DataFrame(dataset)\n",
        "\n",
        "# Funções de rotulagem fraca usando Snorkel\n",
        "from snorkel.labeling import labeling_function, PandasLFApplier\n",
        "\n",
        "# Constantes para rótulos\n",
        "POS, NEG, ABSTAIN = 1, 0, -1\n",
        "\n",
        "@labeling_function()\n",
        "def has_love(x):\n",
        "    return POS if \"love\" in x.text.lower() else ABSTAIN\n",
        "\n",
        "@labeling_function()\n",
        "def has_hate(x):\n",
        "    return NEG if \"hate\" in x.text.lower() else ABSTAIN\n",
        "\n",
        "@labeling_function()\n",
        "def has_excellent(x):\n",
        "    return POS if \"excellent\" in x.text.lower() else ABSTAIN\n",
        "\n",
        "@labeling_function()\n",
        "def has_boring(x):\n",
        "    return NEG if \"boring\" in x.text.lower() else ABSTAIN\n",
        "\n",
        "lfs = [has_love, has_hate, has_excellent, has_boring]\n",
        "applier = PandasLFApplier(lfs)\n",
        "L_train = applier.apply(df)\n",
        "\n",
        "# Geração dos rótulos fracos com o LabelModel\n",
        "from snorkel.labeling.model import LabelModel\n",
        "\n",
        "label_model = LabelModel(cardinality=2, verbose=True)\n",
        "label_model.fit(L_train=L_train, n_epochs=500, log_freq=100)\n",
        "\n",
        "# Adiciona os rótulos fracos ao DataFrame\n",
        "df[\"label_weak\"] = label_model.predict(L=L_train)\n",
        "\n",
        "# Vetorização do texto com TF-IDF\n",
        "from sklearn.feature_extraction.text import TfidfVectorizer\n",
        "\n",
        "vectorizer = TfidfVectorizer(stop_words=\"english\", max_features=5000)\n",
        "X = vectorizer.fit_transform(df[\"text\"])"
      ],
      "metadata": {
        "colab": {
          "base_uri": "https://localhost:8080/"
        },
        "id": "3_Z9WCGUGxWa",
        "outputId": "9feb53b1-e764-40f5-a909-4d5f412b91b8"
      },
      "execution_count": 19,
      "outputs": [
        {
          "output_type": "stream",
          "name": "stderr",
          "text": [
            "100%|██████████| 25000/25000 [00:01<00:00, 15867.69it/s]\n",
            "100%|██████████| 500/500 [00:00<00:00, 881.46epoch/s]\n"
          ]
        }
      ]
    },
    {
      "cell_type": "markdown",
      "source": [
        "## Etapa 2: Aprendizado Positivo e Não-Rotulado (PU Learning)\n",
        "\n",
        "Nesta etapa, aplicamos uma abordagem de **aprendizado com rótulos positivos e não-rotulados (PU Learning)**, que é apropriada em cenários onde apenas parte dos exemplos positivos é rotulada, e os exemplos negativos estão misturados com exemplos não rotulados. Essa é uma situação realista em problemas com escassez de dados anotados com confiança.\n",
        "\n",
        "### Definição do Cenário PU\n",
        "\n",
        "A partir dos rótulos fracos gerados anteriormente com o Snorkel, identificamos as instâncias marcadas positivamente (`label_weak == 1`) como rótulos confiáveis de classe positiva. Já os demais exemplos (incluindo os com `ABSTAIN = -1`) são considerados como não rotulados.\n",
        "\n",
        "- `POS = 1`: exemplos rotulados positivamente.\n",
        "- `ABSTAIN = -1`: exemplos onde as funções de rotulagem não chegaram a um consenso.\n",
        "\n",
        "O vetor `y_pu` é então binarizado: `1` para os exemplos marcados como positivos e `0` para todos os demais, que são tratados como potencialmente negativos ou ruído.\n",
        "\n",
        "### Treinamento com PU Learning\n",
        "\n",
        "Utilizamos o classificador **ElkanotoPUClassifier**, uma implementação popular de PU learning supervisionado, onde um modelo base (nesse caso, uma **regressão logística**) é ajustado com técnicas específicas para evitar viés durante o treinamento com amostras não rotuladas.\n",
        "\n",
        "O modelo é treinado com todo o conjunto vetorizado `X_pu`, e os rótulos resultantes (`label_pu`) são adicionados ao DataFrame para posterior análise e comparação.\n",
        "\n",
        "Importante destacar que a transformação `X_pu.toarray()` é necessária pois alguns estimadores (como a regressão logística do scikit-learn) não aceitam matrizes esparsas.\n",
        "\n",
        "### Saída Inicial\n",
        "\n",
        "Algumas amostras do conjunto de dados são exibidas com os campos `text`, `label_weak` e `label_pu` para verificação qualitativa. Essa etapa nos ajuda a entender como o modelo está se comportando em relação aos exemplos inicialmente rotulados de forma fraca.\n",
        "\n",
        "O objetivo desse passo é obter um modelo inicial que possa classificar todos os exemplos com base nos poucos rótulos confiáveis disponíveis, funcionando como uma forma de **expansão supervisionada fraca**.\n"
      ],
      "metadata": {
        "id": "G65osWWznbWh"
      }
    },
    {
      "cell_type": "code",
      "source": [
        "from pulearn import ElkanotoPuClassifier\n",
        "from sklearn.linear_model import LogisticRegression\n",
        "from sklearn.model_selection import train_test_split\n",
        "import numpy as np\n",
        "\n",
        "POS = 1\n",
        "ABSTAIN = -1\n",
        "\n",
        "# PU mask\n",
        "pu_mask = df[\"label_weak\"].isin([POS, ABSTAIN]).values\n",
        "\n",
        "# Usa todo o dataset para PU learning\n",
        "X_pu = X\n",
        "y_pu = (df[\"label_weak\"].values == POS).astype(int)\n",
        "\n",
        "base_clf = LogisticRegression(max_iter=1000)\n",
        "pu_clf = ElkanotoPuClassifier(estimator=base_clf, hold_out_ratio=0.1, random_state=42)\n",
        "\n",
        "print(f\"X_pu shape: {X_pu.shape}\")\n",
        "print(f\"y_pu shape: {y_pu.shape}\")\n",
        "print(f\"Quantidade positivos (y_pu==1): {np.sum(y_pu==1)}\")\n",
        "print(f\"Quantidade negativos (y_pu==0): {np.sum(y_pu==0)}\")\n",
        "\n",
        "X_pu_dense = X_pu.toarray()\n",
        "pu_clf.fit(X_pu_dense, y_pu)\n",
        "\n",
        "\n",
        "y_pu_pred = pu_clf.predict(X_pu_dense)\n",
        "\n",
        "df[\"label_pu\"] = y_pu_pred\n",
        "\n",
        "print(df[[\"text\", \"label_weak\", \"label_pu\"]].sample(10))"
      ],
      "metadata": {
        "id": "R8kjdmdOcayp",
        "colab": {
          "base_uri": "https://localhost:8080/"
        },
        "outputId": "17b1e832-4790-4d98-d805-8690cbbf00b2"
      },
      "execution_count": 32,
      "outputs": [
        {
          "output_type": "stream",
          "name": "stdout",
          "text": [
            "X_pu shape: (25000, 5000)\n",
            "y_pu shape: (25000,)\n",
            "Quantidade positivos (y_pu==1): 8684\n",
            "Quantidade negativos (y_pu==0): 16316\n",
            "                                                    text  label_weak  label_pu\n",
            "9983   In the autobiographical coming-of-age tale \"Ro...          -1       0.0\n",
            "7370   Polyester was the very first John Water's film...          -1       0.0\n",
            "20851  One of the most important artistic movements i...           1       1.0\n",
            "19859  wow! this is a good movie! The acting wasn't g...          -1       0.0\n",
            "5851   I saw this feature as part of the Asian Americ...          -1       0.0\n",
            "23638  This masterpiece of lesbian horror comes from ...          -1       0.0\n",
            "7487   Anyone who saw the original 1970 movie knows h...           1       1.0\n",
            "22493  I have to start saying it has been a long time...          -1       1.0\n",
            "16774  In my opinion, the best movie ever. I love whe...           1       1.0\n",
            "6786   This pile of sh!t is tied in my book as the wo...          -1       0.0\n"
          ]
        }
      ]
    },
    {
      "cell_type": "markdown",
      "source": [
        "### Análise dos Dados para PU Learning\n",
        "\n",
        "- O dataset possui 25.000 exemplos, com 5.000 características extraídas pelo TF-IDF.\n",
        "- Dos rótulos fracos, 8.684 são positivos e 16.316 negativos/abstain, mostrando desequilíbrio comum em problemas reais.\n",
        "- A tabela mostra amostras com os rótulos fracos originais (`label_weak`) e as predições do classificador PU (`label_pu`).\n",
        "- Notamos que muitos exemplos inicialmente sem rótulo (abstain = -1) receberam predição, indicando que o modelo conseguiu inferir rótulos para dados não anotados.\n",
        "- Essa etapa valida que o modelo PU está aprendendo e expandindo a rotulagem para todo o dataset, preparando para as próximas fases de avaliação e refinamento.\n",
        "---"
      ],
      "metadata": {
        "id": "bF0xcV57rmQI"
      }
    },
    {
      "cell_type": "markdown",
      "source": [
        "## Etapa 3: Limpeza de Rótulos com Cleanlab\n",
        "\n",
        "Após a expansão dos rótulos usando PU Learning, ainda enfrentamos o desafio da **incerteza e ruído nos dados anotados**, dado que o processo de rotulagem inicial não foi supervisionado com alta precisão. Para mitigar esse problema, empregamos o framework **Cleanlab**, que é especializado em identificar e corrigir ruídos em datasets supervisionados.\n",
        "\n",
        "### Divisão de Dados\n",
        "\n",
        "O conjunto de dados vetorizado é dividido em treino e validação, mantendo o equilíbrio de classes com `stratify=y_pu`. Essa divisão é essencial para avaliar o desempenho real do modelo fora da amostra utilizada no treinamento.\n",
        "\n",
        "- `X_train`, `y_train`: dados com rótulos potencialmente ruidosos.\n",
        "- `X_valid`, `y_valid`: subconjunto para avaliação, baseado nos mesmos rótulos ruidosos do PU.\n",
        "\n",
        "### Aplicação do Cleanlab\n",
        "\n",
        "O Cleanlab atua sobre rótulos ruidosos assumindo que:\n",
        "1. O classificador base (neste caso, uma **regressão logística**) tem desempenho razoável.\n",
        "2. O ruído está correlacionado com a predição do modelo.\n",
        "\n",
        "Com isso, o Cleanlab utiliza uma técnica chamada **Confident Learning**, que estima a probabilidade de que um dado exemplo tenha sido rotulado incorretamente. Durante o treinamento, ele ajusta o modelo para levar em conta essas incertezas, o que tende a melhorar a robustez geral do aprendizado.\n",
        "\n",
        "### Avaliação com `classification_report`\n",
        "\n",
        "Ao final do processo, avaliamos o desempenho do modelo treinado com o Cleanlab no conjunto de validação. O relatório de classificação fornece métricas de precisão, recall e F1-score para ambas as classes, o que é fundamental para quantificar a eficácia do processo de limpeza de rótulo.\n",
        "\n",
        "Essa etapa é especialmente relevante em pipelines de **aprendizado fraco ou supervisionado imperfeito**, como é o caso deste projeto, e permite obter classificadores mais robustos a partir de dados com rótulos incertos.\n"
      ],
      "metadata": {
        "id": "x27dofZ5n2C3"
      }
    },
    {
      "cell_type": "code",
      "source": [
        "# Treinamento com Cleanlab (Logistic Regression)\n",
        "from sklearn.metrics import classification_report\n",
        "from sklearn.linear_model import LogisticRegression\n",
        "from cleanlab.classification import CleanLearning\n",
        "\n",
        "# Vamos dividir o dataset em treino e validação (20% validação)\n",
        "X_train, X_valid, y_train, y_valid = train_test_split(\n",
        "    X_pu_dense, y_pu, test_size=0.2, random_state=42, stratify=y_pu\n",
        ")\n",
        "\n",
        "# Inicializa Cleanlab com um classificador base\n",
        "cl = CleanLearning(clf=LogisticRegression(max_iter=1000), seed=42)\n",
        "\n",
        "# Treina o Cleanlab com dados ruidosos (rótulos PU)\n",
        "cl.fit(X_train, y_train)\n",
        "\n",
        "# Avalia no conjunto de validação\n",
        "y_pred = cl.predict(X_valid)\n",
        "\n",
        "print(\"Relatório de Classificação (usando rótulos PU com Cleanlab):\")\n",
        "print(classification_report(y_valid, y_pred, target_names=[\"negativo\", \"positivo\"]))"
      ],
      "metadata": {
        "colab": {
          "base_uri": "https://localhost:8080/"
        },
        "id": "8qLJoWIhEqpN",
        "outputId": "7aab2793-5627-4d96-ff5d-235d49b09f4a"
      },
      "execution_count": 35,
      "outputs": [
        {
          "output_type": "stream",
          "name": "stdout",
          "text": [
            "Relatório de Classificação (usando rótulos PU com Cleanlab):\n",
            "              precision    recall  f1-score   support\n",
            "\n",
            "    negativo       0.87      1.00      0.93      3263\n",
            "    positivo       0.99      0.72      0.84      1737\n",
            "\n",
            "    accuracy                           0.90      5000\n",
            "   macro avg       0.93      0.86      0.88      5000\n",
            "weighted avg       0.91      0.90      0.90      5000\n",
            "\n"
          ]
        }
      ]
    },
    {
      "cell_type": "markdown",
      "source": [
        "### Relatório de Classificação com Cleanlab usando rótulos PU\n",
        "\n",
        "- O modelo apresenta uma **acurácia geral de 90%** no conjunto de validação, o que é um bom resultado considerando a natureza ruidosa dos rótulos PU.\n",
        "- Para a classe **negativo**, a taxa de recall é perfeita (1.00), indicando que o modelo identificou praticamente todos os exemplos negativos corretamente. A precisão de 0.87 mostra que há alguns falsos positivos nessa classe.\n",
        "- Para a classe **positivo**, a precisão é muito alta (0.99), o que significa que quando o modelo prevê positivo, geralmente está certo. No entanto, o recall mais baixo (0.72) indica que ele perdeu cerca de 28% dos positivos reais (falsos negativos).\n",
        "- O equilíbrio entre precisão e recall resulta em um **F1-score** de 0.93 para negativos e 0.84 para positivos, evidenciando que o modelo tem um desempenho mais conservador para a classe positiva.\n",
        "- Essa avaliação reforça que o Cleanlab, ao lidar com rótulos ruidosos, consegue produzir um classificador robusto, ainda que haja espaço para melhorar o recall da classe positiva.\n",
        "---"
      ],
      "metadata": {
        "id": "u5ksSNMLr_Bh"
      }
    },
    {
      "cell_type": "markdown",
      "source": [
        "## Etapa 4: Avaliação com Rótulos Verdadeiros (Ground Truth)\n",
        "\n",
        "Embora tenhamos conduzido o aprendizado até agora com base em **rótulos fracos** (gerados pelas funções de rotulagem e refinados com PU Learning e Cleanlab), o conjunto original IMDB disponibiliza os **rótulos verdadeiros supervisionados**, que foram mantidos até aqui apenas como referência para avaliação.\n",
        "\n",
        "### Objetivo\n",
        "\n",
        "O propósito desta etapa é **avaliar a performance real** do modelo treinado (com Cleanlab) **comparando suas predições com os rótulos reais do dataset**, e não apenas com os rótulos fracos/PU.\n",
        "\n",
        "### Como foi feito:\n",
        "\n",
        "1. Criamos um array de índices (`all_indices`) para manter o controle sobre a origem dos dados após a divisão treino/validação.\n",
        "2. Utilizamos `train_test_split` com o parâmetro `stratify` para garantir a proporção de classes, mas agora também retornando os **índices originais** das amostras divididas.\n",
        "3. Através dos índices de validação (`idx_valid`), criamos uma máscara (`valid_mask`) para recuperar do DataFrame original apenas as amostras da validação.\n",
        "4. Finalmente, usamos os rótulos verdadeiros (`df[\"label\"]`) para calcular o `classification_report` das predições feitas pelo modelo Cleanlab.\n",
        "\n",
        "### Importância\n",
        "\n",
        "Essa avaliação é fundamental para sabermos **até que ponto o modelo conseguiu aprender padrões verdadeiros**, mesmo tendo sido treinado com rótulos ruidosos. Se o desempenho for próximo de um modelo treinado com rótulos limpos, isso valida a eficácia do uso de aprendizado fraco e técnicas como Cleanlab no pipeline.\n",
        "\n",
        "Em resumo, esta é a **primeira avaliação honesta** do modelo frente à realidade supervisionada do problema.\n"
      ],
      "metadata": {
        "id": "mx5O6VhToEzL"
      }
    },
    {
      "cell_type": "code",
      "source": [
        "import numpy as np\n",
        "from sklearn.model_selection import train_test_split\n",
        "\n",
        "# Cria um array de índices para todo o dataset\n",
        "all_indices = np.arange(len(df))\n",
        "\n",
        "# Divide os dados, agora também retornando os índices de treino e validação\n",
        "X_train, X_valid, y_train, y_valid, idx_train, idx_valid = train_test_split(\n",
        "    X_pu_dense, y_pu, all_indices, test_size=0.2, random_state=42, stratify=y_pu\n",
        ")\n",
        "\n",
        "# Agora você tem os índices da validação\n",
        "valid_mask = df.index.isin(idx_valid)\n",
        "\n",
        "print(\"Comparação: Rótulos Fracos vs Verdadeiros\")\n",
        "print(classification_report(df.loc[valid_mask, \"label\"], y_pred, target_names=[\"negativo\", \"positivo\"]))"
      ],
      "metadata": {
        "id": "QHfMJVo04q3R",
        "colab": {
          "base_uri": "https://localhost:8080/"
        },
        "outputId": "3b212117-4e98-49d5-b11a-c63cf4a67783"
      },
      "execution_count": 37,
      "outputs": [
        {
          "output_type": "stream",
          "name": "stdout",
          "text": [
            "Comparação: Rótulos Fracos vs Verdadeiros\n",
            "              precision    recall  f1-score   support\n",
            "\n",
            "    negativo       0.50      0.75      0.60      2492\n",
            "    positivo       0.51      0.26      0.34      2508\n",
            "\n",
            "    accuracy                           0.50      5000\n",
            "   macro avg       0.51      0.50      0.47      5000\n",
            "weighted avg       0.51      0.50      0.47      5000\n",
            "\n"
          ]
        }
      ]
    },
    {
      "cell_type": "markdown",
      "source": [
        "### Comparação entre Rótulos Fracos e Rótulos Verdadeiros\n",
        "\n",
        "- A acurácia geral dos rótulos fracos em relação aos rótulos verdadeiros é de apenas **50%**, indicando que os rótulos gerados pelas labeling functions são bastante ruidosos.\n",
        "- Para a classe **negativo**, o recall é relativamente alto (0.75), o que significa que a maioria dos negativos reais foi identificada, mas a precisão é baixa (0.50), apontando muitos falsos positivos.\n",
        "- Para a classe **positivo**, tanto a precisão (0.51) quanto o recall (0.26) são baixos, mostrando que a rotulagem fraca falha principalmente em detectar corretamente os exemplos positivos.\n",
        "- O F1-score de 0.60 para negativos e 0.34 para positivos confirma que os rótulos fracos têm qualidade limitada, especialmente para a classe positiva.\n",
        "- Esses resultados evidenciam a necessidade de métodos adicionais, como PU Learning e Cleanlab, para melhorar a qualidade dos rótulos e o desempenho do classificador final.\n",
        "---"
      ],
      "metadata": {
        "id": "km3X-1dNsMce"
      }
    },
    {
      "cell_type": "markdown",
      "source": [
        "## Etapa 5: Comparação de Desempenho – PU Learning vs Cleanlab\n",
        "\n",
        "Após o treinamento e avaliação separados dos modelos baseados em **PU Learning** e **Cleanlab**, esta etapa tem como objetivo **comparar diretamente** as métricas de desempenho dos dois métodos.\n",
        "\n",
        "### Objetivo\n",
        "\n",
        "A ideia aqui é entender **qual abordagem oferece melhor desempenho na prática**, sob a perspectiva das métricas mais importantes para problemas de classificação binária: **Precision** e **Recall**.\n",
        "\n",
        "### O que está sendo feito:\n",
        "\n",
        "1. **Predições**: O modelo treinado com PU Learning (`pu_clf`) e o com Cleanlab (`cl`) fazem predições sobre o mesmo conjunto de validação (`X_valid`).\n",
        "2. **Relatórios de classificação**: Para cada modelo, é gerado um `classification_report` do `sklearn`, com `output_dict=True` para facilitar a conversão em DataFrame.\n",
        "3. **Criação de um DataFrame comparativo**: As métricas de **Precision** e **Recall** são extraídas para cada classe (\"Negativo\" e \"Positivo\") e organizadas em um DataFrame para facilitar a visualização comparativa.\n",
        "4. **Visualização com gráfico de barras**: É gerado um gráfico de barras lado a lado para mostrar, por classe, como cada modelo se comporta em termos de precisão e sensibilidade.\n",
        "\n",
        "### Interpretação\n",
        "\n",
        "- **Precision** indica a proporção de predições positivas que estavam corretas. Alta precisão significa poucos falsos positivos.\n",
        "- **Recall** indica a proporção de positivos reais que foram corretamente identificados. Alta sensibilidade significa poucos falsos negativos.\n",
        "\n",
        "Comparar esses valores entre PU Learning e Cleanlab nos ajuda a entender **qual técnica é mais robusta ao ruído nos rótulos**, e qual apresenta **melhor generalização** ao lidar com dados fracos ou parcialmente rotulados.\n",
        "\n",
        "Essa análise é essencial para justificar as decisões metodológicas do projeto e embasar conclusões no relatório final.\n"
      ],
      "metadata": {
        "id": "t8MVVp8RoeoP"
      }
    },
    {
      "cell_type": "code",
      "source": [
        "import matplotlib.pyplot as plt\n",
        "from sklearn.metrics import classification_report\n",
        "\n",
        "# Faz predição no conjunto de validação usando PU Learning\n",
        "y_pu_pred_valid = pu_clf.predict(X_valid)\n",
        "\n",
        "# Faz predição no conjunto de validação usando Cleanlab\n",
        "y_cleanlab_pred = cl.predict(X_valid)\n",
        "\n",
        "# Gera os relatórios de classificação com outputs em dicionário\n",
        "report_pu = classification_report(y_valid, y_pu_pred_valid, output_dict=True, target_names=[\"Negativo\", \"Positivo\"])\n",
        "report_cl = classification_report(y_valid, y_cleanlab_pred, output_dict=True, target_names=[\"Negativo\", \"Positivo\"])\n",
        "\n",
        "# Cria DataFrame para comparação das métricas Precision e Recall\n",
        "df_metrics = pd.DataFrame({\n",
        "    \"PU_Precision\": [report_pu[\"Negativo\"][\"precision\"], report_pu[\"Positivo\"][\"precision\"]],\n",
        "    \"PU_Recall\":    [report_pu[\"Negativo\"][\"recall\"], report_pu[\"Positivo\"][\"recall\"]],\n",
        "    \"CL_Precision\": [report_cl[\"Negativo\"][\"precision\"], report_cl[\"Positivo\"][\"precision\"]],\n",
        "    \"CL_Recall\":    [report_cl[\"Negativo\"][\"recall\"], report_cl[\"Positivo\"][\"recall\"]],\n",
        "}, index=[\"Negativo\", \"Positivo\"])\n",
        "\n",
        "# Plota as métricas para comparação\n",
        "df_metrics.plot(kind=\"bar\", figsize=(10, 6))\n",
        "plt.title(\"Comparação de Métricas: PU Learning vs Cleanlab\")\n",
        "plt.ylabel(\"Score\")\n",
        "plt.xticks(rotation=0)\n",
        "plt.tight_layout()\n",
        "plt.show()"
      ],
      "metadata": {
        "colab": {
          "base_uri": "https://localhost:8080/",
          "height": 606
        },
        "id": "qTM0xqhFFRbi",
        "outputId": "a6baf01a-9958-4195-d0be-99da1db53de1"
      },
      "execution_count": 40,
      "outputs": [
        {
          "output_type": "display_data",
          "data": {
            "text/plain": [
              "<Figure size 1000x600 with 1 Axes>"
            ],
            "image/png": "[encoded data removed]"
          },
          "metadata": {}
        }
      ]
    },
    {
      "cell_type": "markdown",
      "source": [
        "## Etapa 6: Detecção de Possíveis Erros de Anotação com Cleanlab\n",
        "\n",
        "Nesta etapa, utilizamos o `Cleanlab` para identificar **exemplos com alta probabilidade de estarem rotulados incorretamente** no conjunto de validação.\n",
        "\n",
        "### Motivação\n",
        "\n",
        "Mesmo com técnicas como PU Learning e o uso de funções de rotulagem fraca (Snorkel), é natural que o dataset ainda contenha **rótulos ruidosos**. Esses rótulos imprecisos afetam diretamente a performance do modelo e dificultam a avaliação honesta dos resultados. Portanto, é importante **localizar automaticamente possíveis erros de anotação** para investigar e, se possível, corrigi-los ou tratá-los adequadamente.\n",
        "\n",
        "### O que está sendo feito:\n",
        "\n",
        "1. **Predição probabilística**: Utilizamos o método `predict_proba()` do Cleanlab para obter a **distribuição de probabilidade** para cada classe, ao invés de apenas a classe mais provável. Isso nos dá uma visão mais refinada da incerteza do modelo.\n",
        "2. **Identificação de rótulos suspeitos**: Com a função `find_label_issues()`, o Cleanlab identifica os exemplos com **baixa confiança no rótulo fornecido**, usando o critério de `self_confidence` (probabilidade prevista da classe rotulada).\n",
        "3. **Criação de uma flag**: Adicionamos ao DataFrame de validação (`df_valid`) uma coluna booleana indicando se o exemplo foi considerado problemático.\n",
        "4. **Exibição dos resultados**: Visualizamos os 5 primeiros exemplos com suspeita de erro de rótulo, incluindo o texto original, o rótulo fraco, o verdadeiro (se disponível), e a flag de possível erro.\n",
        "\n",
        "### Importância\n",
        "\n",
        "Esse processo é fundamental em pipelines com **dados fracos, parciais ou ruidosos**, como é o caso neste projeto. Ele demonstra como técnicas modernas podem **apoiar a curadoria de dados e a auditoria de anotações**, contribuindo para a melhoria contínua dos modelos e da qualidade do dataset.\n",
        "\n",
        "Além disso, essa etapa aproxima a prática de um cenário real de produção, onde é crucial não apenas treinar modelos, mas **monitorar e corrigir falhas no dado rotulado**, que muitas vezes são a principal fonte de erro em sistemas inteligentes.\n"
      ],
      "metadata": {
        "id": "r-JR6I00mRBT"
      }
    },
    {
      "cell_type": "code",
      "source": [
        "from cleanlab.filter import find_label_issues\n",
        "\n",
        "# Identifica instâncias que provavelmente estão com rótulo incorreto\n",
        "pred_probs = cl.predict_proba(X_valid)\n",
        "issue_indices = find_label_issues(\n",
        "    labels=y_valid,\n",
        "    pred_probs=pred_probs,\n",
        "    return_indices_ranked_by=\"self_confidence\"\n",
        ")\n",
        "\n",
        "# Adiciona coluna com flag de erro provável no DataFrame\n",
        "df_valid = df[valid_mask].copy()\n",
        "df_valid[\"is_label_issue\"] = False\n",
        "df_valid.iloc[issue_indices, df_valid.columns.get_loc(\"is_label_issue\")] = True\n",
        "\n",
        "# Exibe os 5 exemplos com menor confiança no rótulo\n",
        "print(\"\\nExemplos com possível erro de anotação:\")\n",
        "print(df_valid[df_valid[\"is_label_issue\"]].head(5)[[\"text\", \"label_weak\", \"label\", \"is_label_issue\"]])"
      ],
      "metadata": {
        "id": "XqthvKa_mVov",
        "colab": {
          "base_uri": "https://localhost:8080/"
        },
        "outputId": "ac591ee4-286c-4562-eb2b-f54a92cdbd5c"
      },
      "execution_count": 41,
      "outputs": [
        {
          "output_type": "stream",
          "name": "stdout",
          "text": [
            "\n",
            "Exemplos com possível erro de anotação:\n",
            "                                                   text  label_weak  label  \\\n",
            "218   While it's early to say how the series will ev...           1      0   \n",
            "291   This movie is a crappy and forgettable Sean Co...           1      0   \n",
            "1350  Yes, you guessed it. Another movie where ident...          -1      0   \n",
            "1433  The reasons to watch this knock off... err... ...          -1      0   \n",
            "1614  :::SPOILER ALERT:::<br /><br />Soooo, Arnie's ...          -1      0   \n",
            "\n",
            "      is_label_issue  \n",
            "218             True  \n",
            "291             True  \n",
            "1350            True  \n",
            "1433            True  \n",
            "1614            True  \n"
          ]
        }
      ]
    },
    {
      "cell_type": "markdown",
      "source": [
        "### Exemplos de Possíveis Erros de Anotação Identificados pelo Cleanlab\n",
        "\n",
        "- O Cleanlab indicou cinco exemplos do conjunto de validação que provavelmente possuem rótulos incorretos, baseando-se na baixa confiança do modelo em relação a esses rótulos.\n",
        "- Em todos os casos listados, o rótulo fraco (`label_weak`) ou o rótulo verdadeiro (`label`) parecem estar em conflito, sugerindo inconsistências na anotação.\n",
        "- Por exemplo, a instância 218 tem rótulo fraco positivo (1), mas o rótulo verdadeiro é negativo (0), o que pode indicar um erro ou uma ambiguidade no texto.\n",
        "- Essa identificação é importante para refinar o conjunto de dados, seja para revisão manual ou para aplicar técnicas de correção automática.\n",
        "- Detectar e tratar esses erros ajuda a melhorar a qualidade dos rótulos, o desempenho dos modelos treinados e a confiabilidade geral do projeto.\n",
        "---"
      ],
      "metadata": {
        "id": "xCdzS7RGsWKP"
      }
    },
    {
      "cell_type": "markdown",
      "source": [
        "## Análise das Funções de Rotulagem (Snorkel)\n",
        "\n",
        "Nesta etapa, realizamos uma **análise quantitativa das funções de rotulagem fraca** aplicadas com a biblioteca Snorkel, por meio do módulo `LFAnalysis`.\n",
        "\n",
        "### Objetivo\n",
        "\n",
        "Após aplicar as `Labeling Functions` (LFs) no dataset com `PandasLFApplier`, é essencial entender o **comportamento estatístico** dessas funções — isto é, **qual a cobertura**, **sobreposição** e **acurácia estimada** de cada função, mesmo sem acesso aos rótulos verdadeiros. A análise também ajuda a identificar LFs redundantes ou pouco informativas, o que pode afetar negativamente a qualidade dos rótulos fracos gerados pelo `LabelModel`.\n",
        "\n",
        "### O que foi feito\n",
        "\n",
        "- Utilizamos `LFAnalysis`, uma ferramenta do Snorkel, para gerar um **resumo tabular com estatísticas chave** para cada função de rotulagem (`lf_summary`):\n",
        "  - **Coverage**: proporção de exemplos cobertos (não abstém).\n",
        "  - **Overlaps**: número de vezes em que uma LF faz predição no mesmo exemplo que outra LF.\n",
        "  - **Conflicts**: número de vezes em que uma LF entra em conflito direto com outras (dão rótulos opostos).\n",
        "  - **Polarity**: conjunto de rótulos possíveis emitidos por cada LF.\n",
        "\n",
        "### Por que isso é relevante?\n",
        "\n",
        "Essa análise é crucial para:\n",
        "- Avaliar se as LFs estão sendo utilizadas de forma eficaz;\n",
        "- **Refinar ou remover LFs** com comportamento indesejado (muito conflituosas ou com baixa cobertura);\n",
        "- Guiar a melhoria contínua da estratégia de rotulagem fraca;\n",
        "- Tornar o processo mais transparente e interpretável.\n",
        "\n",
        "Ao observar o `lf_summary`, podemos tomar decisões sobre possíveis ajustes nas LFs, como tornar palavras-chave mais abrangentes ou dividir uma função muito genérica em funções mais específicas.\n",
        "\n",
        "Essa etapa faz parte do processo de **auditoria e explicabilidade** da pipeline de supervisão fraca — um diferencial importante em cenários reais e também um ponto forte em avaliações acadêmicas.\n"
      ],
      "metadata": {
        "id": "nH3Qdzb9pts3"
      }
    },
    {
      "cell_type": "code",
      "source": [
        "from snorkel.labeling import LFAnalysis\n",
        "\n",
        "lf_summary = LFAnalysis(L=L_train, lfs=lfs).lf_summary()\n",
        "print(lf_summary)"
      ],
      "metadata": {
        "id": "D7zQJvIN4u-9",
        "colab": {
          "base_uri": "https://localhost:8080/"
        },
        "outputId": "96c446ec-07e1-4d42-b2d3-ea3f628f4bf8"
      },
      "execution_count": 42,
      "outputs": [
        {
          "output_type": "stream",
          "name": "stdout",
          "text": [
            "               j Polarity  Coverage  Overlaps  Conflicts\n",
            "has_love       0      [1]   0.25612   0.05780    0.03740\n",
            "has_hate       1      [0]   0.06936   0.03172    0.02816\n",
            "has_excellent  2      [1]   0.07312   0.02816    0.00776\n",
            "has_boring     3      [0]   0.06148   0.02028    0.01672\n"
          ]
        }
      ]
    },
    {
      "cell_type": "markdown",
      "source": [
        "### Análise das Labeling Functions (LFs) do Snorkel\n",
        "\n",
        "- A tabela apresenta métricas importantes para avaliar o desempenho das quatro labeling functions criadas:\n",
        "  - **Polarity:** Indica o rótulo que a LF atribui quando ativa (1 para positivo, 0 para negativo).\n",
        "  - **Coverage:** Proporção de exemplos do dataset em que a LF emite um rótulo diferente de abstain.\n",
        "  - **Overlaps:** Percentual de exemplos onde a LF se sobrepõe com outras LFs, ou seja, várias LFs dão rótulos para o mesmo exemplo.\n",
        "  - **Conflicts:** Percentual de exemplos em que a LF entra em conflito com outras LFs, ou seja, rótulos divergentes são atribuídos ao mesmo exemplo.\n",
        "\n",
        "- Observações:\n",
        "  - A LF `has_love` cobre cerca de 25,6% dos exemplos, sendo a que cobre mais dados, com conflitos relativamente baixos (3,74%).\n",
        "  - `has_hate`, `has_excellent` e `has_boring` têm coberturas menores (6,9% a 7,3%), com conflitos ainda menores, mostrando que são mais conservadoras.\n",
        "  - A baixa taxa de conflitos indica que as LFs foram definidas de forma consistente, o que é desejável para um bom desempenho do modelo de rótulo.\n",
        "\n",
        "- Essa análise ajuda a entender quais LFs contribuem mais para os rótulos e se há necessidade de ajustes para melhorar cobertura e reduzir conflitos.\n",
        "---"
      ],
      "metadata": {
        "id": "uQmMxOoDsfGI"
      }
    },
    {
      "cell_type": "markdown",
      "source": [
        "## Visualização da Cobertura das Funções de Rotulagem (Snorkel)\n",
        "\n",
        "Nesta etapa, visualizamos a **cobertura de cada função de rotulagem (Labeling Function - LF)** usada no processo de supervisão fraca com Snorkel.\n",
        "\n",
        "### O que é \"Cobertura\"?\n",
        "\n",
        "A **cobertura** representa a proporção de exemplos no dataset para os quais uma determinada LF emite um rótulo (ou seja, não retorna `ABSTAIN`). É uma métrica fundamental para avaliar a **utilidade prática** de cada LF. Uma LF que raramente emite um rótulo pode estar mal definida ou ser muito restritiva, o que reduz sua contribuição para a geração de rótulos fracos.\n",
        "\n",
        "### O que foi feito\n",
        "\n",
        "- Utilizamos novamente `LFAnalysis` para obter a métrica de cobertura por função;\n",
        "- Criamos um gráfico de barras, onde cada barra representa uma LF e seu respectivo valor de cobertura;\n",
        "- A visualização permite identificar facilmente quais funções têm maior ou menor impacto sobre o dataset.\n",
        "\n",
        "### Por que essa etapa é importante?\n",
        "\n",
        "- Permite **diagnosticar LFs com cobertura baixa ou nula**, que podem ser candidatos à exclusão ou reformulação;\n",
        "- Ajuda a garantir que o conjunto de LFs está efetivamente cobrindo uma fração significativa dos dados;\n",
        "- Apoia decisões sobre **balanceamento e diversificação das heurísticas**, evitando vieses indesejados no modelo gerado.\n",
        "\n",
        "Esse tipo de análise visual também contribui para a **transparência e interpretabilidade** do sistema — elementos cruciais tanto em contextos industriais quanto acadêmicos.\n"
      ],
      "metadata": {
        "id": "mYyYV9M_m0AK"
      }
    },
    {
      "cell_type": "code",
      "source": [
        "# Cobertura das Labeling Functions (Snorkel)\n",
        "import matplotlib.pyplot as plt\n",
        "from snorkel.labeling import LFAnalysis\n",
        "\n",
        "lf_summary = LFAnalysis(L=L_train, lfs=lfs).lf_summary()\n",
        "lf_summary = lf_summary.reset_index()  # Transforma o índice (nomes das LFs) em coluna\n",
        "lf_summary.plot.bar(x=\"index\", y=\"Coverage\", legend=False)\n",
        "plt.title(\"Cobertura das Labeling Functions\")\n",
        "plt.ylabel(\"Proporção de exemplos cobertos\")\n",
        "plt.xlabel(\"Labeling Function\")\n",
        "plt.xticks(rotation=45)\n",
        "plt.tight_layout()\n",
        "plt.show()"
      ],
      "metadata": {
        "id": "TZck2Irn8LCl",
        "colab": {
          "base_uri": "https://localhost:8080/",
          "height": 487
        },
        "outputId": "5959aa5b-cfd4-4d3c-b852-e8e9c37653fa"
      },
      "execution_count": 43,
      "outputs": [
        {
          "output_type": "display_data",
          "data": {
            "text/plain": [
              "<Figure size 640x480 with 1 Axes>"
            ],
            "image/png": "[encoded data removed]"
          },
          "metadata": {}
        }
      ]
    },
    {
      "cell_type": "markdown",
      "source": [
        "## Distribuição dos Rótulos Fracos Gerados pelo Snorkel\n",
        "\n",
        "Após a aplicação das funções de rotulagem fraca, geramos os chamados **rótulos fracos** para cada exemplo do dataset. Esses rótulos indicam a classificação inicial fornecida pelas heurísticas, que pode incluir:\n",
        "\n",
        "- **POSITIVO (1):** Exemplos considerados como positivos segundo as funções;\n",
        "- **NEGATIVO (0):** Exemplos classificados como negativos;\n",
        "- **ABSTAIN (-1):** Exemplos onde as funções não emitiram nenhum rótulo, ou seja, ficaram em dúvida.\n",
        "\n",
        "### Objetivo dessa visualização:\n",
        "\n",
        "- Compreender a **distribuição quantitativa desses rótulos fracos** no dataset;\n",
        "- Avaliar o equilíbrio entre as classes positivas e negativas, bem como a quantidade de exemplos não rotulados (abstain);\n",
        "- Identificar possíveis **desbalanceamentos iniciais**, que podem afetar o desempenho do modelo final.\n",
        "\n",
        "### Importância:\n",
        "\n",
        "Essa análise é fundamental para verificar se as funções de rotulagem estão cobrindo uma parcela razoável dos dados e para entender a composição inicial dos rótulos, antes de passar para a etapa de modelagem e refinamento dos rótulos fracos pelo LabelModel do Snorkel.\n",
        "\n",
        "---\n",
        "\n",
        "Visualizações como essa ajudam a garantir a qualidade e a robustez do processo de rotulagem fraca, elemento chave para o sucesso da aprendizagem em cenários com dados parcialmente rotulados ou ruidosos.\n"
      ],
      "metadata": {
        "id": "sbP1HmFCqIg9"
      }
    },
    {
      "cell_type": "code",
      "source": [
        "#Distribuição dos rótulos fracos (Snorkel)\n",
        "df[\"label_weak\"].value_counts().sort_index().plot(kind=\"bar\", color=[\"gray\", \"red\", \"green\"])\n",
        "plt.title(\"Distribuição dos Rótulos Fracos\")\n",
        "plt.xticks(ticks=[0, 1, 2], labels=[\"ABSTAIN (-1)\", \"NEGATIVO (0)\", \"POSITIVO (1)\"], rotation=0)\n",
        "plt.ylabel(\"Quantidade de exemplos\")\n",
        "plt.tight_layout()\n",
        "plt.show()"
      ],
      "metadata": {
        "id": "sAwOFTX98NlM",
        "colab": {
          "base_uri": "https://localhost:8080/",
          "height": 487
        },
        "outputId": "848e2938-b491-4963-88b3-e14a1fd11906"
      },
      "execution_count": 44,
      "outputs": [
        {
          "output_type": "display_data",
          "data": {
            "text/plain": [
              "<Figure size 640x480 with 1 Axes>"
            ],
            "image/png": "[encoded data removed]"
          },
          "metadata": {}
        }
      ]
    },
    {
      "cell_type": "markdown",
      "source": [
        "## Matriz de Confusão para Avaliação do Modelo CleanLab\n",
        "\n",
        "A matriz de confusão é uma ferramenta essencial para avaliar o desempenho de classificadores, especialmente em problemas binários como o nosso (classes \"Negativo\" e \"Positivo\").\n",
        "\n",
        "### O que é a matriz de confusão?\n",
        "\n",
        "Ela mostra a contagem de previsões corretas e incorretas feitas pelo modelo, distribuídas da seguinte forma:\n",
        "\n",
        "- **Verdadeiros Negativos (VN):** Quantidade de exemplos negativos corretamente classificados;\n",
        "- **Falsos Positivos (FP):** Exemplos negativos incorretamente classificados como positivos;\n",
        "- **Falsos Negativos (FN):** Exemplos positivos incorretamente classificados como negativos;\n",
        "- **Verdadeiros Positivos (VP):** Exemplos positivos corretamente classificados.\n",
        "\n",
        "### Por que usar a matriz de confusão aqui?\n",
        "\n",
        "- Para entender melhor os tipos de erros cometidos pelo modelo CleanLab, que é uma técnica avançada para lidar com rótulos ruidosos;\n",
        "- Avaliar não apenas a acurácia, mas também a distribuição dos erros, que pode ser crucial para ajustar o modelo ou para decisões posteriores no projeto.\n",
        "\n",
        "### Visualização\n",
        "\n",
        "A matriz é plotada com um mapa de cores (cmap \"Blues\") para facilitar a visualização das concentrações, onde cores mais escuras indicam maiores quantidades.\n",
        "\n",
        "Assim, essa análise ajuda a diagnosticar o comportamento do modelo em detalhes, permitindo identificar se ele está tendendo a errar mais em algum tipo específico de rótulo.\n",
        "\n",
        "---\n",
        "\n"
      ],
      "metadata": {
        "id": "5CQXpfXNqUMJ"
      }
    },
    {
      "cell_type": "code",
      "source": [
        "#Matriz de Confusão\n",
        "from sklearn.metrics import confusion_matrix, ConfusionMatrixDisplay\n",
        "\n",
        "cm = confusion_matrix(y_valid, y_pred, labels=[0, 1])\n",
        "disp = ConfusionMatrixDisplay(confusion_matrix=cm, display_labels=[\"Negativo\", \"Positivo\"])\n",
        "disp.plot(cmap=\"Blues\")\n",
        "plt.title(\"Matriz de Confusão (CleanLab)\")\n",
        "plt.show()"
      ],
      "metadata": {
        "id": "Qc8eDBh58nt_",
        "colab": {
          "base_uri": "https://localhost:8080/",
          "height": 472
        },
        "outputId": "3d7e6be0-0307-4e38-8329-03d67af1dd6b"
      },
      "execution_count": 45,
      "outputs": [
        {
          "output_type": "display_data",
          "data": {
            "text/plain": [
              "<Figure size 640x480 with 2 Axes>"
            ],
            "image/png": "[encoded data removed]"
          },
          "metadata": {}
        }
      ]
    },
    {
      "cell_type": "markdown",
      "source": [
        "## Avaliação do Modelo PU Learning com Matriz de Confusão\n",
        "\n",
        "Nesta etapa, avaliamos o desempenho do classificador treinado usando a abordagem **PU Learning** (Positive-Unlabeled Learning), que é uma técnica especial para cenários onde apenas alguns exemplos positivos são rotulados com certeza, enquanto o restante dos dados é considerado não rotulado (possivelmente negativo).\n",
        "\n",
        "### Relatório de Classificação\n",
        "\n",
        "- O relatório de classificação apresenta métricas detalhadas como **precisão**, **recall** e **f1-score** para cada classe (\"negativo\" e \"positivo\").\n",
        "- Essas métricas são fundamentais para entender a qualidade das predições feitas pelo modelo, indicando sua capacidade de identificar corretamente cada classe e o equilíbrio entre erros de falsos positivos e falsos negativos.\n",
        "\n",
        "### Matriz de Confusão\n",
        "\n",
        "- Assim como fizemos com o modelo CleanLab, aqui exibimos a matriz de confusão para o classificador PU.\n",
        "- A matriz destaca a contagem de verdadeiros positivos, falsos positivos, verdadeiros negativos e falsos negativos.\n",
        "- O uso do mapa de cores em **tons de laranja (cmap=\"Oranges\")** ajuda a diferenciar visualmente a intensidade das contagens, facilitando a análise dos erros cometidos pelo modelo.\n",
        "\n",
        "### Importância dessa análise\n",
        "\n",
        "- A matriz de confusão e o relatório complementam a avaliação quantitativa do modelo, permitindo uma análise qualitativa das áreas em que o modelo pode estar confundindo classes.\n",
        "- Como PU Learning lida com rótulos parcialmente ausentes, essa análise ajuda a verificar se a técnica está conseguindo superar a falta de rótulos negativos explícitos.\n",
        "\n",
        "---\n",
        "\n"
      ],
      "metadata": {
        "id": "cdZcUWjzqku1"
      }
    },
    {
      "cell_type": "code",
      "source": [
        "#Matriz de Confusão PU\n",
        "from sklearn.metrics import classification_report, confusion_matrix, ConfusionMatrixDisplay\n",
        "\n",
        "print(\"\\n Relatório de Classificação - PU Learning:\")\n",
        "y_pu_pred_valid = pu_clf.predict(X_valid)  # Predição só no conjunto de validação\n",
        "print(classification_report(y_valid, y_pu_pred_valid, target_names=[\"negativo\", \"positivo\"]))\n",
        "\n",
        "cm_pu = confusion_matrix(y_valid, y_pu_pred_valid, labels=[0, 1])\n",
        "disp_pu = ConfusionMatrixDisplay(confusion_matrix=cm_pu, display_labels=[\"Negativo\", \"Positivo\"])\n",
        "disp_pu.plot(cmap=\"Oranges\")\n",
        "plt.title(\"Matriz de Confusão - PU Learning\")\n",
        "plt.show()"
      ],
      "metadata": {
        "colab": {
          "base_uri": "https://localhost:8080/",
          "height": 675
        },
        "id": "tVXAAogDEwFD",
        "outputId": "e2218f64-f493-420e-e243-55c4dbb59c0a"
      },
      "execution_count": 47,
      "outputs": [
        {
          "output_type": "stream",
          "name": "stdout",
          "text": [
            "\n",
            " Relatório de Classificação - PU Learning:\n",
            "              precision    recall  f1-score   support\n",
            "\n",
            "    negativo       0.96      0.97      0.96      3263\n",
            "    positivo       0.94      0.92      0.93      1737\n",
            "\n",
            "    accuracy                           0.95      5000\n",
            "   macro avg       0.95      0.94      0.95      5000\n",
            "weighted avg       0.95      0.95      0.95      5000\n",
            "\n"
          ]
        },
        {
          "output_type": "display_data",
          "data": {
            "text/plain": [
              "<Figure size 640x480 with 2 Axes>"
            ],
            "image/png": "[encoded data removed]"
          },
          "metadata": {}
        }
      ]
    },
    {
      "cell_type": "markdown",
      "source": [
        "### Resultados da Classificação usando PU Learning\n",
        "\n",
        "- O relatório de classificação mostra métricas detalhadas para as classes **negativo** e **positivo** após o treinamento e avaliação do modelo PU Learning:\n",
        "  - **Precisão:** O modelo teve alta precisão para ambas as classes (0.96 para negativo e 0.94 para positivo), indicando que a maioria das previsões feitas para cada classe estava correta.\n",
        "  - **Recall:** Também obteve altos valores de recall (0.97 negativo e 0.92 positivo), o que significa que o modelo identificou a maior parte dos exemplos reais de cada classe.\n",
        "  - **F1-Score:** A métrica F1, que equilibra precisão e recall, ficou em 0.96 para negativo e 0.93 para positivo, refletindo um bom desempenho geral.\n",
        "  - **Acurácia:** O modelo acertou 95% das previsões no conjunto de validação.\n",
        "\n",
        "- Em resumo, o PU Learning conseguiu construir um classificador robusto mesmo partindo de rótulos ruidosos e parciais, demonstrando a eficácia dessa técnica em cenários com dados rotulados de forma fraca ou incompleta.\n",
        "---"
      ],
      "metadata": {
        "id": "wiSqln3Bsq4A"
      }
    },
    {
      "cell_type": "markdown",
      "source": [
        "## Avaliação Detalhada do Modelo com Métricas de Classificação\n",
        "\n",
        "Nesta etapa, realizamos uma avaliação mais detalhada do desempenho do modelo CleanLab utilizando as principais métricas de classificação:\n",
        "\n",
        "- **Precisão (Precision)**: Mede a proporção de exemplos classificados como positivos que são realmente positivos. É importante para entender a taxa de falsos positivos do modelo.\n",
        "- **Revocação (Recall)**: Indica a capacidade do modelo de encontrar todos os exemplos positivos reais, ou seja, sua sensibilidade. Mede a taxa de falsos negativos.\n",
        "- **F1-Score**: É a média harmônica entre precisão e recall, oferecendo um balanço entre esses dois aspectos. É uma métrica muito útil quando se deseja uma visão geral da performance, especialmente em casos de desequilíbrio de classes.\n",
        "- **Support**: Representa a quantidade de amostras reais para cada classe no conjunto de validação, ajudando a contextualizar as métricas.\n",
        "\n",
        "Para facilitar a análise, converti o relatório de classificação em um DataFrame do Pandas, possibilitando a visualização clara e organizada dos resultados.\n",
        "\n",
        "Essa avaliação detalhada é fundamental para entender não apenas a acurácia global do modelo, mas também seu comportamento específico para cada classe, auxiliando na identificação de possíveis pontos de melhoria.\n",
        "\n",
        "---\n"
      ],
      "metadata": {
        "id": "fL1h9EHqqwb4"
      }
    },
    {
      "cell_type": "code",
      "source": [
        "#Classificação por Métricas (F1, Precision, Recall)\n",
        "from sklearn.metrics import classification_report\n",
        "import pandas as pd\n",
        "\n",
        "report = classification_report(y_valid, y_pred, output_dict=True, target_names=[\"Negativo\", \"Positivo\"])\n",
        "report_df = pd.DataFrame(report).transpose()\n",
        "print(report_df[[\"precision\", \"recall\", \"f1-score\", \"support\"]])"
      ],
      "metadata": {
        "id": "QjInhNAu8vGb",
        "colab": {
          "base_uri": "https://localhost:8080/"
        },
        "outputId": "b2548a2d-4a6d-40d7-dfee-6dbe48011d8c"
      },
      "execution_count": 48,
      "outputs": [
        {
          "output_type": "stream",
          "name": "stdout",
          "text": [
            "              precision    recall  f1-score    support\n",
            "Negativo       0.870717  0.996935  0.929561  3263.0000\n",
            "Positivo       0.992089  0.721934  0.835721  1737.0000\n",
            "accuracy       0.901400  0.901400  0.901400     0.9014\n",
            "macro avg      0.931403  0.859435  0.882641  5000.0000\n",
            "weighted avg   0.912882  0.901400  0.896961  5000.0000\n"
          ]
        }
      ]
    },
    {
      "cell_type": "markdown",
      "source": [
        "### Resultados da Classificação usando Cleanlab\n",
        "\n",
        "- O relatório apresenta a avaliação do modelo treinado com Cleanlab, que lida com rótulos ruidosos para melhorar a qualidade da classificação:\n",
        "  - **Precisão:** O modelo teve precisão alta para a classe positivo (0.99) e boa para negativo (0.87), indicando poucas classificações incorretas entre as previsões positivas.\n",
        "  - **Recall:** O recall para a classe negativo é quase perfeito (0.997), mostrando que quase todos os exemplos negativos foram corretamente identificados. Já para a classe positiva, o recall é menor (0.72), indicando que o modelo deixou de detectar algumas instâncias positivas.\n",
        "  - **F1-Score:** O F1 de 0.93 para negativo e 0.84 para positivo reflete o equilíbrio entre precisão e recall, com melhor desempenho para a classe negativa.\n",
        "  - **Acurácia:** A acurácia geral de aproximadamente 90% indica um bom desempenho no conjunto de validação.\n",
        "\n",
        "- Em suma, o Cleanlab conseguiu melhorar a qualidade da classificação em meio a dados ruidosos, embora tenha um pouco mais de dificuldade em captar todas as instâncias positivas quando comparado ao PU Learning.\n",
        "---"
      ],
      "metadata": {
        "id": "dPlBFMXNsxni"
      }
    },
    {
      "cell_type": "code",
      "source": [
        "import joblib\n",
        "\n",
        "# Salva o vetorizador TF-IDF\n",
        "joblib.dump(vectorizer, \"vectorizer.joblib\")\n",
        "\n",
        "# Salva o classificador treinado\n",
        "joblib.dump(cl.clf, \"classifier.joblib\")\n",
        "\n",
        "report_df.to_csv(\"metricas_cleanlab.csv\", index=True)"
      ],
      "metadata": {
        "id": "IyZi5zo-4yNV"
      },
      "execution_count": 50,
      "outputs": []
    }
  ]
}